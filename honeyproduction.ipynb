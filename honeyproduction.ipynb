{
 "cells": [
  {
   "cell_type": "markdown",
   "id": "729328bf",
   "metadata": {},
   "source": [
    "# Producción de Miel (EUA)"
   ]
  },
  {
   "cell_type": "markdown",
   "id": "8de67c1b",
   "metadata": {},
   "source": [
    "Los datos siguientes se obtuvieron de [Kaggle](https://www.kaggle.com/datasets/jessicali9530/honey-production). \n",
    "Existe una preocupación mundial sobre la rápida disminución de la población de abejas. \n",
    "\n",
    "Debido a que se encontró un comportamiento linealmente descendente de la producción de miel de 1998 a 2012, se hará una predicción para los años 2013 a 2050 mediante regresión lineal. "
   ]
  },
  {
   "cell_type": "code",
   "execution_count": 1,
   "id": "4be18db6",
   "metadata": {},
   "outputs": [],
   "source": [
    "import pandas as pd\n",
    "import matplotlib.pyplot as plt \n",
    "import numpy as np \n",
    "from sklearn import linear_model"
   ]
  },
  {
   "cell_type": "code",
   "execution_count": 2,
   "id": "a5ccf02f",
   "metadata": {},
   "outputs": [
    {
     "data": {
      "text/html": [
       "<div>\n",
       "<style scoped>\n",
       "    .dataframe tbody tr th:only-of-type {\n",
       "        vertical-align: middle;\n",
       "    }\n",
       "\n",
       "    .dataframe tbody tr th {\n",
       "        vertical-align: top;\n",
       "    }\n",
       "\n",
       "    .dataframe thead th {\n",
       "        text-align: right;\n",
       "    }\n",
       "</style>\n",
       "<table border=\"1\" class=\"dataframe\">\n",
       "  <thead>\n",
       "    <tr style=\"text-align: right;\">\n",
       "      <th></th>\n",
       "      <th>state</th>\n",
       "      <th>numcol</th>\n",
       "      <th>yieldpercol</th>\n",
       "      <th>totalprod</th>\n",
       "      <th>stocks</th>\n",
       "      <th>priceperlb</th>\n",
       "      <th>prodvalue</th>\n",
       "      <th>year</th>\n",
       "    </tr>\n",
       "  </thead>\n",
       "  <tbody>\n",
       "    <tr>\n",
       "      <th>0</th>\n",
       "      <td>AL</td>\n",
       "      <td>16000.0</td>\n",
       "      <td>71</td>\n",
       "      <td>1136000.0</td>\n",
       "      <td>159000.0</td>\n",
       "      <td>0.72</td>\n",
       "      <td>818000.0</td>\n",
       "      <td>1998</td>\n",
       "    </tr>\n",
       "    <tr>\n",
       "      <th>1</th>\n",
       "      <td>AZ</td>\n",
       "      <td>55000.0</td>\n",
       "      <td>60</td>\n",
       "      <td>3300000.0</td>\n",
       "      <td>1485000.0</td>\n",
       "      <td>0.64</td>\n",
       "      <td>2112000.0</td>\n",
       "      <td>1998</td>\n",
       "    </tr>\n",
       "    <tr>\n",
       "      <th>2</th>\n",
       "      <td>AR</td>\n",
       "      <td>53000.0</td>\n",
       "      <td>65</td>\n",
       "      <td>3445000.0</td>\n",
       "      <td>1688000.0</td>\n",
       "      <td>0.59</td>\n",
       "      <td>2033000.0</td>\n",
       "      <td>1998</td>\n",
       "    </tr>\n",
       "    <tr>\n",
       "      <th>3</th>\n",
       "      <td>CA</td>\n",
       "      <td>450000.0</td>\n",
       "      <td>83</td>\n",
       "      <td>37350000.0</td>\n",
       "      <td>12326000.0</td>\n",
       "      <td>0.62</td>\n",
       "      <td>23157000.0</td>\n",
       "      <td>1998</td>\n",
       "    </tr>\n",
       "    <tr>\n",
       "      <th>4</th>\n",
       "      <td>CO</td>\n",
       "      <td>27000.0</td>\n",
       "      <td>72</td>\n",
       "      <td>1944000.0</td>\n",
       "      <td>1594000.0</td>\n",
       "      <td>0.70</td>\n",
       "      <td>1361000.0</td>\n",
       "      <td>1998</td>\n",
       "    </tr>\n",
       "  </tbody>\n",
       "</table>\n",
       "</div>"
      ],
      "text/plain": [
       "  state    numcol  yieldpercol   totalprod      stocks  priceperlb  \\\n",
       "0    AL   16000.0           71   1136000.0    159000.0        0.72   \n",
       "1    AZ   55000.0           60   3300000.0   1485000.0        0.64   \n",
       "2    AR   53000.0           65   3445000.0   1688000.0        0.59   \n",
       "3    CA  450000.0           83  37350000.0  12326000.0        0.62   \n",
       "4    CO   27000.0           72   1944000.0   1594000.0        0.70   \n",
       "\n",
       "    prodvalue  year  \n",
       "0    818000.0  1998  \n",
       "1   2112000.0  1998  \n",
       "2   2033000.0  1998  \n",
       "3  23157000.0  1998  \n",
       "4   1361000.0  1998  "
      ]
     },
     "execution_count": 2,
     "metadata": {},
     "output_type": "execute_result"
    }
   ],
   "source": [
    "df = pd.read_csv('honeyproduction.csv')\n",
    "df.head()"
   ]
  },
  {
   "cell_type": "markdown",
   "id": "9b9c1545",
   "metadata": {},
   "source": [
    "* state - estado\n",
    "* numcol - número de colonias productoras de miel\n",
    "* yieldpercol - rendimiento de miel por colonia (lbs)\n",
    "* totalprod - producción total (numcol x yieldpercol) (lbs)\n",
    "* stocks -se refiere a las existencias en poder de los productores\n",
    "* priceperlb - Se refiere al precio promedio por libra basado en ventas ampliadas\n",
    "* prodvalue - valor de la producción (totalprod x priceperlb) (USD)\n",
    "* year - año"
   ]
  },
  {
   "cell_type": "code",
   "execution_count": 3,
   "id": "e1cd5280",
   "metadata": {},
   "outputs": [
    {
     "name": "stdout",
     "output_type": "stream",
     "text": [
      "(626, 8)\n"
     ]
    }
   ],
   "source": [
    "print(df.shape)"
   ]
  },
  {
   "cell_type": "markdown",
   "id": "f0a4798c",
   "metadata": {},
   "source": [
    "Nos interesa la producción promedio por año, agrupamos por la variable `year` y calculamos el promedio en la variable `prod_per_year`."
   ]
  },
  {
   "cell_type": "code",
   "execution_count": 4,
   "id": "a10003c7",
   "metadata": {},
   "outputs": [
    {
     "name": "stdout",
     "output_type": "stream",
     "text": [
      "    year     totalprod\n",
      "0   1998  5.105093e+06\n",
      "1   1999  4.706674e+06\n",
      "2   2000  5.106000e+06\n",
      "3   2001  4.221545e+06\n",
      "4   2002  3.892386e+06\n",
      "5   2003  4.122091e+06\n",
      "6   2004  4.456805e+06\n",
      "7   2005  4.243146e+06\n",
      "8   2006  3.761902e+06\n",
      "9   2007  3.600512e+06\n",
      "10  2008  3.974927e+06\n",
      "11  2009  3.626700e+06\n",
      "12  2010  4.382350e+06\n",
      "13  2011  3.680025e+06\n",
      "14  2012  3.522675e+06\n"
     ]
    }
   ],
   "source": [
    "prod_per_year = df.groupby('year').totalprod.mean().reset_index()\n",
    "print(prod_per_year)"
   ]
  },
  {
   "cell_type": "code",
   "execution_count": 5,
   "id": "2f729085",
   "metadata": {},
   "outputs": [],
   "source": [
    "x = prod_per_year['year']\n",
    "X = x.values.reshape(-1,1)\n",
    "y = prod_per_year['totalprod']"
   ]
  },
  {
   "cell_type": "markdown",
   "id": "bd475eac",
   "metadata": {},
   "source": [
    "Se realiza un gráfico de dispersión para la producción de miel por año y se observa una vaga relación lineal entre la variable `X` e `y`. "
   ]
  },
  {
   "cell_type": "code",
   "execution_count": 6,
   "id": "0baf0496",
   "metadata": {
    "scrolled": true
   },
   "outputs": [
    {
     "data": {
      "image/png": "[encoded data removed]",
      "text/plain": [
       "<Figure size 432x288 with 1 Axes>"
      ]
     },
     "metadata": {
      "needs_background": "light"
     },
     "output_type": "display_data"
    }
   ],
   "source": [
    "plt.scatter(X,y)\n",
    "plt.title('Honey production per year')\n",
    "plt.xlabel('Year')\n",
    "plt.ylabel('Avg total production (lbs)')\n",
    "plt.show()"
   ]
  },
  {
   "cell_type": "markdown",
   "id": "cafa71d4",
   "metadata": {},
   "source": [
    "Se creó un modelo de regresión lineal de scikit-learn llamado line_fitter y se ajustó a las variables `X`e `y`. Se obtuvo un R^2 de 0.58, la pendiente de la recta es aproximadamente -88303.2 con intersección en 181208083.1."
   ]
  },
  {
   "cell_type": "code",
   "execution_count": 10,
   "id": "e0189c93",
   "metadata": {},
   "outputs": [
    {
     "name": "stdout",
     "output_type": "stream",
     "text": [
      "[-88303.18915238] 181208083.1073298\n",
      "0.5845502894391804\n"
     ]
    }
   ],
   "source": [
    "from sklearn.linear_model import LinearRegression\n",
    "line_fitter = LinearRegression()\n",
    "line_fitter.fit(X,y)\n",
    "print(line_fitter.coef_, line_fitter.intercept_)\n",
    "print(line_fitter.score(X,y))"
   ]
  },
  {
   "cell_type": "code",
   "execution_count": 35,
   "id": "a8af5891",
   "metadata": {
    "scrolled": true
   },
   "outputs": [
    {
     "data": {
      "image/png": "[encoded data removed]",
      "text/plain": [
       "<Figure size 432x288 with 1 Axes>"
      ]
     },
     "metadata": {
      "needs_background": "light"
     },
     "output_type": "display_data"
    }
   ],
   "source": [
    "y_predict = line_fitter.predict(X)\n",
    "plt.plot(X, y_predict)\n",
    "plt.scatter(X, y)\n",
    "plt.title('Honey production per year with linear fitting')\n",
    "plt.xlabel('Year')\n",
    "plt.ylabel('Avg total production (lbs)')\n",
    "plt.show()"
   ]
  },
  {
   "cell_type": "markdown",
   "id": "70c6dff5",
   "metadata": {},
   "source": [
    "Ahora, se crea la variable `x_future` para hacer la predicción para los años 2013-2050 y se grafica la producción de miel para cada uno de estos años. "
   ]
  },
  {
   "cell_type": "code",
   "execution_count": 32,
   "id": "b2a6512e",
   "metadata": {},
   "outputs": [],
   "source": [
    "x_future = np.array(range(2013, 2051))\n",
    "X_future = x_future.reshape(-1,1)\n",
    "y_future = line_fitter.predict(X_future)"
   ]
  },
  {
   "cell_type": "code",
   "execution_count": 36,
   "id": "abd22f96",
   "metadata": {
    "scrolled": true
   },
   "outputs": [
    {
     "data": {
      "image/png": "[encoded data removed]",
      "text/plain": [
       "<Figure size 432x288 with 1 Axes>"
      ]
     },
     "metadata": {
      "needs_background": "light"
     },
     "output_type": "display_data"
    }
   ],
   "source": [
    "plt.plot(x_future, y_future)\n",
    "plt.title('Prediction of honey production from 2013 to 2050')\n",
    "plt.xlabel('Year')\n",
    "plt.ylabel('Prediction of honey production (lbs)')\n",
    "plt.show()"
   ]
  },
  {
   "cell_type": "markdown",
   "id": "1c9b707f",
   "metadata": {},
   "source": [
    "Se observa que para el 2050, la producción de miel decae a cerca de las 500000 lbs, es decir a solo el 10% de lo que se producía en 1998."
   ]
  }
 ],
 "metadata": {
  "kernelspec": {
   "display_name": "Python 3",
   "language": "python",
   "name": "python3"
  },
  "language_info": {
   "codemirror_mode": {
    "name": "ipython",
    "version": 3
   },
   "file_extension": ".py",
   "mimetype": "text/x-python",
   "name": "python",
   "nbconvert_exporter": "python",
   "pygments_lexer": "ipython3",
   "version": "3.6.13"
  }
 },
 "nbformat": 4,
 "nbformat_minor": 5
}
